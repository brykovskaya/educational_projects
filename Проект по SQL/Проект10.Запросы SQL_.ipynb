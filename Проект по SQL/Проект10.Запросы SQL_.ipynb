{
 "cells": [
  {
   "cell_type": "markdown",
   "metadata": {},
   "source": [
    "# SQL. Анализ базы данных сервиса для чтения книг по подписке"
   ]
  },
  {
   "cell_type": "markdown",
   "metadata": {},
   "source": [
    "## `Вводные данные` <a class=\"tocSkip\">\n",
    "Компания решила запустить новый продукт - приложение для тех кто любит читать продук. Для этого Компания купила крупный сервис для чтения книг по подписке. \n",
    "    \n",
    "Нам доступна база данных, в которой содержится информация о книгах, издательствах, авторах, а также пользовательские обзоры книг. \n",
    "\n",
    "Предполагается, что эти данные помогут сформулировать ценностное предложение для нового продукта - приложения для тех кто любит читать.  \n",
    "\n",
    "## `Цель исследования`: <a class=\"tocSkip\">\n",
    "Получение конкретных данных для формулировки ценностного предложения для нового продукта.   \n",
    "\n",
    "## `Задачи`: <a class=\"tocSkip\">\n",
    "\n",
    "Анализ иформации из базы данных сервиса для чтения книг по подписке и получение ответов на вопросы:\n",
    " - посчитать сколько книг вышло после 1 января 2000 года;\n",
    " - посчитать какое количество обзоров и какая средняя оценка для каждой книги;\n",
    " - определить издательство, которое выпустило наибольшее число книг толще 50 страниц (это исключит из анализа брошюры);\n",
    " - определить автора с самой высокой средней оценкой книг — учитывать только книги с 50 и более оценками;\n",
    " - Посчитать среднее количество обзоров от пользователей, которые поставили больше 48 оценок."
   ]
  },
  {
   "cell_type": "markdown",
   "metadata": {},
   "source": [
    "## `План проекта` <a class=\"tocSkip\">\n",
    "\n",
    "1. Импорт библиотек. Настройка параметров доступа к БД\n",
    "1. Исследование таблицы — вывести первые строки, посчитать количество строк в каждой таблице;\n",
    "1. Решение поставленных задач:\n",
    " - посчитать сколько книг вышло после 1 января 2000 года;\n",
    " - посчитать какое количество обзоров и какая средняя оценка для каждой книги ;\n",
    " - определить издательство, которое выпустило наибольшее число книг толще 50 страниц (это исключит из анализа брошюры);\n",
    " - определить автора с самой высокой средней оценкой книг — учитывать только книги с 50 и более оценками;\n",
    " - Посчитать среднее количество обзоров от пользователей, которые поставили больше 48 оценок.\\\n",
    "Решение каждой задачи оформлять по алгоритму:\n",
    "     * SQL-запрос\n",
    "     * вывод результата запроса\n",
    "     * описание выводов по результату запроса    \n",
    "1. Итоги анализа"
   ]
  },
  {
   "cell_type": "markdown",
   "metadata": {},
   "source": [
    "## `Описание данных` <a class=\"tocSkip\">\n",
    "\n",
    "Таблицы:  `books`, `authors`, `publishers`, `ratings`,  `reviews`\n",
    "    \n",
    "**Таблица `books`**\n",
    "Содержит данные о книгах:\n",
    " - `book_id` — идентификатор книги;\n",
    " - `author_id` — идентификатор автора;\n",
    " - `title` — название книги;\n",
    " - `num_pages` — количество страниц;\n",
    " - `publication_date` — дата публикации книги;\n",
    " - `publisher_id` — идентификатор издателя.\n",
    "\n",
    "**Таблица `authors`**\n",
    "Содержит данные об авторах:\n",
    " - `author_id` — идентификатор автора;\n",
    " - `author` — имя автора.\n",
    " \n",
    "**Таблица `publishers`**\n",
    "Содержит данные об издательствах:\n",
    " - `publisher_id` — идентификатор издательства;\n",
    " - `publisher` — название издательства;\n",
    "**Таблица `ratings`**\n",
    "Содержит данные о пользовательских оценках книг:\n",
    " - `rating_id` — идентификатор оценки;\n",
    " - `book_id` — идентификатор книги;\n",
    " - `username` — имя пользователя, оставившего оценку;\n",
    " - `rating` — оценка книги.\n",
    "**Таблица `reviews`**\n",
    "Содержит данные о пользовательских обзорах на книги:\n",
    " - `review_id` — идентификатор обзора;\n",
    " - `book_id` — идентификатор книги;\n",
    " - `username` — имя пользователя, написавшего обзор;\n",
    " - `text` — текст обзора."
   ]
  },
  {
   "cell_type": "markdown",
   "metadata": {},
   "source": [
    "Материалы\n",
    "[Картинка ER-диаграммы](https://disk.yandex.ru/i/O6fO-7aQXQJJxg)"
   ]
  },
  {
   "cell_type": "markdown",
   "metadata": {},
   "source": [
    "## Импорт библиотек. Настройка параметров доступа к БД"
   ]
  },
  {
   "cell_type": "code",
   "execution_count": 1,
   "metadata": {},
   "outputs": [
    {
     "name": "stdout",
     "output_type": "stream",
     "text": [
      "Defaulting to user installation because normal site-packages is not writeable\n",
      "Requirement already satisfied: psycopg2 in c:\\users\\79181\\appdata\\roaming\\python\\python39\\site-packages (2.9.9)\n"
     ]
    }
   ],
   "source": [
    "#имортируем бибилиотеки\n",
    "import pandas as pd\n",
    "import sqlalchemy as sa\n",
    "#для запуска локально возможно потребуется\n",
    "!pip install psycopg2\n",
    "import os\n",
    "from sqlalchemy import text, create_engine\n",
    "#снимаем ограничение на ширину столбцов\n",
    "pd.set_option('display.max_colwidth', None)"
   ]
  },
  {
   "cell_type": "code",
   "execution_count": 2,
   "metadata": {},
   "outputs": [
    {
     "name": "stdout",
     "output_type": "stream",
     "text": [
      "Defaulting to user installation because normal site-packages is not writeable\n",
      "Requirement already satisfied: python-dotenv in c:\\users\\79181\\appdata\\roaming\\python\\python39\\site-packages (1.0.1)\n"
     ]
    }
   ],
   "source": [
    "#установка библиотеки python-dotenv\n",
    "!pip install python-dotenv\n",
    "#поиск файла .env и загрузка из него переменных среды\n",
    "from dotenv import load_dotenv\n"
   ]
  },
  {
   "cell_type": "code",
   "execution_count": 3,
   "metadata": {},
   "outputs": [
    {
     "data": {
      "text/plain": [
       "True"
      ]
     },
     "execution_count": 3,
     "metadata": {},
     "output_type": "execute_result"
    }
   ],
   "source": [
    "#грузим пароли запуская поиск файла .env локально\n",
    "load_dotenv()"
   ]
  },
  {
   "cell_type": "code",
   "execution_count": 4,
   "metadata": {},
   "outputs": [],
   "source": [
    "#устанавливаем параметры\n",
    "# получаем параметры из хранимого в специальном скрытом файле .env - не храним пароли в явном виде\n",
    "db_config = {\n",
    "    'user': 'praktikum_student',#имя пользователя\n",
    "    'pwd': os.getenv('pwd'), #пароль  подгружается из локального файла\n",
    "    'host': 'rc1b-wcoijxj3yxfsf3fs.mdb.yandexcloud.net',  \n",
    "    'port': 6432, #порт подключения\n",
    "    'db': 'data-analyst-final-project-db' #название базы данных\n",
    "}\n",
    "\n",
    "connection_string = 'postgresql://{user}:{pwd}@{host}:{port}/{db}'.format(**db_config)"
   ]
  },
  {
   "cell_type": "code",
   "execution_count": 6,
   "metadata": {},
   "outputs": [],
   "source": [
    "# сохраняем коннектор\n",
    "engine = create_engine(connection_string, connect_args={'sslmode':'require'})"
   ]
  },
  {
   "cell_type": "markdown",
   "metadata": {},
   "source": [
    "## Исследование таблиц\n",
    "Выведем первые строки, посчитать количество строк в каждой из представленной таблиц:\n",
    " - `books`, \n",
    " - `authors`, \n",
    " - `publishers`, \n",
    " - `ratings`,  \n",
    " - `reviews`"
   ]
  },
  {
   "cell_type": "markdown",
   "metadata": {},
   "source": [
    "### Функция для запросов `get_sql_data`\n",
    "Так как предстоит много запросов, то для удобства выполнения SQL-запроса, напишем функцию с использованием Pandas."
   ]
  },
  {
   "cell_type": "code",
   "execution_count": 7,
   "metadata": {},
   "outputs": [],
   "source": [
    "# функцию для SQL зароса\n",
    "def get_sql_data(query:str, engine:sa.engine.base.Engine=engine) -> pd.DataFrame:\n",
    "    '''Открываем соединение, получаем данные из sql, закрываем соединение'''\n",
    "    with engine.connect() as con:\n",
    "        return pd.read_sql(sql=sa.text(query), con = con)"
   ]
  },
  {
   "cell_type": "markdown",
   "metadata": {},
   "source": [
    "### Исследование таблицы `books`\n",
    "Выведем первые строки, затем посчитаем количество строк в каждой таблице."
   ]
  },
  {
   "cell_type": "code",
   "execution_count": 8,
   "metadata": {},
   "outputs": [
    {
     "data": {
      "text/html": [
       "<div>\n",
       "<style scoped>\n",
       "    .dataframe tbody tr th:only-of-type {\n",
       "        vertical-align: middle;\n",
       "    }\n",
       "\n",
       "    .dataframe tbody tr th {\n",
       "        vertical-align: top;\n",
       "    }\n",
       "\n",
       "    .dataframe thead th {\n",
       "        text-align: right;\n",
       "    }\n",
       "</style>\n",
       "<table border=\"1\" class=\"dataframe\">\n",
       "  <thead>\n",
       "    <tr style=\"text-align: right;\">\n",
       "      <th></th>\n",
       "      <th>book_id</th>\n",
       "      <th>author_id</th>\n",
       "      <th>title</th>\n",
       "      <th>num_pages</th>\n",
       "      <th>publication_date</th>\n",
       "      <th>publisher_id</th>\n",
       "    </tr>\n",
       "  </thead>\n",
       "  <tbody>\n",
       "    <tr>\n",
       "      <th>0</th>\n",
       "      <td>1</td>\n",
       "      <td>546</td>\n",
       "      <td>'Salem's Lot</td>\n",
       "      <td>594</td>\n",
       "      <td>2005-11-01</td>\n",
       "      <td>93</td>\n",
       "    </tr>\n",
       "    <tr>\n",
       "      <th>1</th>\n",
       "      <td>2</td>\n",
       "      <td>465</td>\n",
       "      <td>1 000 Places to See Before You Die</td>\n",
       "      <td>992</td>\n",
       "      <td>2003-05-22</td>\n",
       "      <td>336</td>\n",
       "    </tr>\n",
       "    <tr>\n",
       "      <th>2</th>\n",
       "      <td>3</td>\n",
       "      <td>407</td>\n",
       "      <td>13 Little Blue Envelopes (Little Blue Envelope  #1)</td>\n",
       "      <td>322</td>\n",
       "      <td>2010-12-21</td>\n",
       "      <td>135</td>\n",
       "    </tr>\n",
       "    <tr>\n",
       "      <th>3</th>\n",
       "      <td>4</td>\n",
       "      <td>82</td>\n",
       "      <td>1491: New Revelations of the Americas Before Columbus</td>\n",
       "      <td>541</td>\n",
       "      <td>2006-10-10</td>\n",
       "      <td>309</td>\n",
       "    </tr>\n",
       "    <tr>\n",
       "      <th>4</th>\n",
       "      <td>5</td>\n",
       "      <td>125</td>\n",
       "      <td>1776</td>\n",
       "      <td>386</td>\n",
       "      <td>2006-07-04</td>\n",
       "      <td>268</td>\n",
       "    </tr>\n",
       "  </tbody>\n",
       "</table>\n",
       "</div>"
      ],
      "text/plain": [
       "   book_id  author_id                                                  title  \\\n",
       "0        1        546                                           'Salem's Lot   \n",
       "1        2        465                     1 000 Places to See Before You Die   \n",
       "2        3        407    13 Little Blue Envelopes (Little Blue Envelope  #1)   \n",
       "3        4         82  1491: New Revelations of the Americas Before Columbus   \n",
       "4        5        125                                                   1776   \n",
       "\n",
       "   num_pages publication_date  publisher_id  \n",
       "0        594       2005-11-01            93  \n",
       "1        992       2003-05-22           336  \n",
       "2        322       2010-12-21           135  \n",
       "3        541       2006-10-10           309  \n",
       "4        386       2006-07-04           268  "
      ]
     },
     "execution_count": 8,
     "metadata": {},
     "output_type": "execute_result"
    }
   ],
   "source": [
    "# формируем запрос\n",
    "query = '''\n",
    "\n",
    "SELECT *\n",
    "  FROM books\n",
    " LIMIT 5;\n",
    "\n",
    "'''\n",
    "# вызываем функцию\n",
    "get_sql_data(query)"
   ]
  },
  {
   "cell_type": "code",
   "execution_count": 9,
   "metadata": {},
   "outputs": [
    {
     "name": "stdout",
     "output_type": "stream",
     "text": [
      "Количество строк в таблице:\n",
      "   count\n",
      "0   1000\n"
     ]
    }
   ],
   "source": [
    "# формируем запрос\n",
    "query = '''\n",
    "\n",
    "SELECT COUNT(*)\n",
    "  FROM books;\n",
    "\n",
    "'''\n",
    "# вызываем функцию\n",
    "print(f\"Количество строк в таблице:\\n{get_sql_data(query)}\")"
   ]
  },
  {
   "cell_type": "markdown",
   "metadata": {},
   "source": [
    "### Исследование таблицы `authors`\n",
    "Выведем первые строки, затем посчитаем количество строк в каждой таблице;"
   ]
  },
  {
   "cell_type": "code",
   "execution_count": 10,
   "metadata": {},
   "outputs": [
    {
     "data": {
      "text/html": [
       "<div>\n",
       "<style scoped>\n",
       "    .dataframe tbody tr th:only-of-type {\n",
       "        vertical-align: middle;\n",
       "    }\n",
       "\n",
       "    .dataframe tbody tr th {\n",
       "        vertical-align: top;\n",
       "    }\n",
       "\n",
       "    .dataframe thead th {\n",
       "        text-align: right;\n",
       "    }\n",
       "</style>\n",
       "<table border=\"1\" class=\"dataframe\">\n",
       "  <thead>\n",
       "    <tr style=\"text-align: right;\">\n",
       "      <th></th>\n",
       "      <th>author_id</th>\n",
       "      <th>author</th>\n",
       "    </tr>\n",
       "  </thead>\n",
       "  <tbody>\n",
       "    <tr>\n",
       "      <th>0</th>\n",
       "      <td>1</td>\n",
       "      <td>A.S. Byatt</td>\n",
       "    </tr>\n",
       "    <tr>\n",
       "      <th>1</th>\n",
       "      <td>2</td>\n",
       "      <td>Aesop/Laura Harris/Laura Gibbs</td>\n",
       "    </tr>\n",
       "    <tr>\n",
       "      <th>2</th>\n",
       "      <td>3</td>\n",
       "      <td>Agatha Christie</td>\n",
       "    </tr>\n",
       "    <tr>\n",
       "      <th>3</th>\n",
       "      <td>4</td>\n",
       "      <td>Alan Brennert</td>\n",
       "    </tr>\n",
       "    <tr>\n",
       "      <th>4</th>\n",
       "      <td>5</td>\n",
       "      <td>Alan Moore/David   Lloyd</td>\n",
       "    </tr>\n",
       "  </tbody>\n",
       "</table>\n",
       "</div>"
      ],
      "text/plain": [
       "   author_id                          author\n",
       "0          1                      A.S. Byatt\n",
       "1          2  Aesop/Laura Harris/Laura Gibbs\n",
       "2          3                 Agatha Christie\n",
       "3          4                   Alan Brennert\n",
       "4          5        Alan Moore/David   Lloyd"
      ]
     },
     "execution_count": 10,
     "metadata": {},
     "output_type": "execute_result"
    }
   ],
   "source": [
    "# формируем запрос\n",
    "query = '''\n",
    "\n",
    "SELECT *\n",
    "  FROM authors\n",
    " LIMIT 5;\n",
    "\n",
    "'''\n",
    "# вызываем функцию\n",
    "get_sql_data(query)"
   ]
  },
  {
   "cell_type": "code",
   "execution_count": 11,
   "metadata": {},
   "outputs": [
    {
     "name": "stdout",
     "output_type": "stream",
     "text": [
      "Количество строк в таблице:\n",
      "   count\n",
      "0    636\n"
     ]
    }
   ],
   "source": [
    "# формируем запрос\n",
    "query = '''\n",
    "\n",
    "SELECT COUNT(*)\n",
    "  FROM authors;\n",
    "\n",
    "'''\n",
    "# вызываем функцию\n",
    "print(f\"Количество строк в таблице:\\n{get_sql_data(query)}\")"
   ]
  },
  {
   "cell_type": "markdown",
   "metadata": {},
   "source": [
    "### Исследование таблицы `publishers`\n",
    "Выведем первые строки, затем посчитаем количество строк в каждой таблице;"
   ]
  },
  {
   "cell_type": "code",
   "execution_count": 12,
   "metadata": {},
   "outputs": [
    {
     "data": {
      "text/html": [
       "<div>\n",
       "<style scoped>\n",
       "    .dataframe tbody tr th:only-of-type {\n",
       "        vertical-align: middle;\n",
       "    }\n",
       "\n",
       "    .dataframe tbody tr th {\n",
       "        vertical-align: top;\n",
       "    }\n",
       "\n",
       "    .dataframe thead th {\n",
       "        text-align: right;\n",
       "    }\n",
       "</style>\n",
       "<table border=\"1\" class=\"dataframe\">\n",
       "  <thead>\n",
       "    <tr style=\"text-align: right;\">\n",
       "      <th></th>\n",
       "      <th>publisher_id</th>\n",
       "      <th>publisher</th>\n",
       "    </tr>\n",
       "  </thead>\n",
       "  <tbody>\n",
       "    <tr>\n",
       "      <th>0</th>\n",
       "      <td>1</td>\n",
       "      <td>Ace</td>\n",
       "    </tr>\n",
       "    <tr>\n",
       "      <th>1</th>\n",
       "      <td>2</td>\n",
       "      <td>Ace Book</td>\n",
       "    </tr>\n",
       "    <tr>\n",
       "      <th>2</th>\n",
       "      <td>3</td>\n",
       "      <td>Ace Books</td>\n",
       "    </tr>\n",
       "    <tr>\n",
       "      <th>3</th>\n",
       "      <td>4</td>\n",
       "      <td>Ace Hardcover</td>\n",
       "    </tr>\n",
       "    <tr>\n",
       "      <th>4</th>\n",
       "      <td>5</td>\n",
       "      <td>Addison Wesley Publishing Company</td>\n",
       "    </tr>\n",
       "  </tbody>\n",
       "</table>\n",
       "</div>"
      ],
      "text/plain": [
       "   publisher_id                          publisher\n",
       "0             1                                Ace\n",
       "1             2                           Ace Book\n",
       "2             3                          Ace Books\n",
       "3             4                      Ace Hardcover\n",
       "4             5  Addison Wesley Publishing Company"
      ]
     },
     "execution_count": 12,
     "metadata": {},
     "output_type": "execute_result"
    }
   ],
   "source": [
    "# формируем запрос\n",
    "query = '''\n",
    "\n",
    "SELECT *\n",
    "  FROM publishers\n",
    " LIMIT 5; \n",
    "\n",
    "'''\n",
    "# вызываем функцию\n",
    "get_sql_data(query)"
   ]
  },
  {
   "cell_type": "code",
   "execution_count": 13,
   "metadata": {},
   "outputs": [
    {
     "name": "stdout",
     "output_type": "stream",
     "text": [
      "Количество строк в таблице:\n",
      "   count\n",
      "0    340\n"
     ]
    }
   ],
   "source": [
    "# формируем запрос\n",
    "query = '''\n",
    "\n",
    "SELECT COUNT(*)\n",
    "  FROM publishers;\n",
    "\n",
    "'''\n",
    "# вызываем функцию\n",
    "print(f\"Количество строк в таблице:\\n{get_sql_data(query)}\")"
   ]
  },
  {
   "cell_type": "markdown",
   "metadata": {},
   "source": [
    "### Исследование таблицы `ratings`\n",
    "Выведем первые строки, затем посчитаем количество строк в каждой таблице;"
   ]
  },
  {
   "cell_type": "code",
   "execution_count": 14,
   "metadata": {},
   "outputs": [
    {
     "data": {
      "text/html": [
       "<div>\n",
       "<style scoped>\n",
       "    .dataframe tbody tr th:only-of-type {\n",
       "        vertical-align: middle;\n",
       "    }\n",
       "\n",
       "    .dataframe tbody tr th {\n",
       "        vertical-align: top;\n",
       "    }\n",
       "\n",
       "    .dataframe thead th {\n",
       "        text-align: right;\n",
       "    }\n",
       "</style>\n",
       "<table border=\"1\" class=\"dataframe\">\n",
       "  <thead>\n",
       "    <tr style=\"text-align: right;\">\n",
       "      <th></th>\n",
       "      <th>rating_id</th>\n",
       "      <th>book_id</th>\n",
       "      <th>username</th>\n",
       "      <th>rating</th>\n",
       "    </tr>\n",
       "  </thead>\n",
       "  <tbody>\n",
       "    <tr>\n",
       "      <th>0</th>\n",
       "      <td>1</td>\n",
       "      <td>1</td>\n",
       "      <td>ryanfranco</td>\n",
       "      <td>4</td>\n",
       "    </tr>\n",
       "    <tr>\n",
       "      <th>1</th>\n",
       "      <td>2</td>\n",
       "      <td>1</td>\n",
       "      <td>grantpatricia</td>\n",
       "      <td>2</td>\n",
       "    </tr>\n",
       "    <tr>\n",
       "      <th>2</th>\n",
       "      <td>3</td>\n",
       "      <td>1</td>\n",
       "      <td>brandtandrea</td>\n",
       "      <td>5</td>\n",
       "    </tr>\n",
       "    <tr>\n",
       "      <th>3</th>\n",
       "      <td>4</td>\n",
       "      <td>2</td>\n",
       "      <td>lorichen</td>\n",
       "      <td>3</td>\n",
       "    </tr>\n",
       "    <tr>\n",
       "      <th>4</th>\n",
       "      <td>5</td>\n",
       "      <td>2</td>\n",
       "      <td>mariokeller</td>\n",
       "      <td>2</td>\n",
       "    </tr>\n",
       "  </tbody>\n",
       "</table>\n",
       "</div>"
      ],
      "text/plain": [
       "   rating_id  book_id       username  rating\n",
       "0          1        1     ryanfranco       4\n",
       "1          2        1  grantpatricia       2\n",
       "2          3        1   brandtandrea       5\n",
       "3          4        2       lorichen       3\n",
       "4          5        2    mariokeller       2"
      ]
     },
     "execution_count": 14,
     "metadata": {},
     "output_type": "execute_result"
    }
   ],
   "source": [
    "# формируем запрос\n",
    "query = '''\n",
    "\n",
    "SELECT *\n",
    "  FROM ratings\n",
    " LIMIT 5; \n",
    "\n",
    "'''\n",
    "# вызываем функцию\n",
    "get_sql_data(query)"
   ]
  },
  {
   "cell_type": "code",
   "execution_count": 15,
   "metadata": {},
   "outputs": [
    {
     "name": "stdout",
     "output_type": "stream",
     "text": [
      "Количество строк в таблице:\n",
      "   count\n",
      "0   6456\n"
     ]
    }
   ],
   "source": [
    "# формируем запрос\n",
    "query = '''\n",
    "\n",
    "SELECT COUNT(*)\n",
    "  FROM ratings;\n",
    "\n",
    "'''\n",
    "# вызываем функцию\n",
    "print(f\"Количество строк в таблице:\\n{get_sql_data(query)}\")"
   ]
  },
  {
   "cell_type": "markdown",
   "metadata": {},
   "source": [
    "### Исследование таблицы `reviews`\n",
    "Выведем первые строки, затем посчитаем количество строк в каждой таблице;"
   ]
  },
  {
   "cell_type": "code",
   "execution_count": 16,
   "metadata": {},
   "outputs": [
    {
     "data": {
      "text/html": [
       "<div>\n",
       "<style scoped>\n",
       "    .dataframe tbody tr th:only-of-type {\n",
       "        vertical-align: middle;\n",
       "    }\n",
       "\n",
       "    .dataframe tbody tr th {\n",
       "        vertical-align: top;\n",
       "    }\n",
       "\n",
       "    .dataframe thead th {\n",
       "        text-align: right;\n",
       "    }\n",
       "</style>\n",
       "<table border=\"1\" class=\"dataframe\">\n",
       "  <thead>\n",
       "    <tr style=\"text-align: right;\">\n",
       "      <th></th>\n",
       "      <th>review_id</th>\n",
       "      <th>book_id</th>\n",
       "      <th>username</th>\n",
       "      <th>text</th>\n",
       "    </tr>\n",
       "  </thead>\n",
       "  <tbody>\n",
       "    <tr>\n",
       "      <th>0</th>\n",
       "      <td>1</td>\n",
       "      <td>1</td>\n",
       "      <td>brandtandrea</td>\n",
       "      <td>Mention society tell send professor analysis. Over provide race technology continue these.</td>\n",
       "    </tr>\n",
       "    <tr>\n",
       "      <th>1</th>\n",
       "      <td>2</td>\n",
       "      <td>1</td>\n",
       "      <td>ryanfranco</td>\n",
       "      <td>Foot glass pretty audience hit themselves. Among admit investment argue security.</td>\n",
       "    </tr>\n",
       "    <tr>\n",
       "      <th>2</th>\n",
       "      <td>3</td>\n",
       "      <td>2</td>\n",
       "      <td>lorichen</td>\n",
       "      <td>Listen treat keep worry. Miss husband tax but person sport treatment industry. Kitchen decision deep the. Social party body the.</td>\n",
       "    </tr>\n",
       "    <tr>\n",
       "      <th>3</th>\n",
       "      <td>4</td>\n",
       "      <td>3</td>\n",
       "      <td>johnsonamanda</td>\n",
       "      <td>Finally month interesting blue could nature cultural bit. Prepare beat finish grow that smile teach. Dream me play near.</td>\n",
       "    </tr>\n",
       "    <tr>\n",
       "      <th>4</th>\n",
       "      <td>5</td>\n",
       "      <td>3</td>\n",
       "      <td>scotttamara</td>\n",
       "      <td>Nation purpose heavy give wait song will. List dinner another whole positive radio fast. Music staff many green.</td>\n",
       "    </tr>\n",
       "  </tbody>\n",
       "</table>\n",
       "</div>"
      ],
      "text/plain": [
       "   review_id  book_id       username  \\\n",
       "0          1        1   brandtandrea   \n",
       "1          2        1     ryanfranco   \n",
       "2          3        2       lorichen   \n",
       "3          4        3  johnsonamanda   \n",
       "4          5        3    scotttamara   \n",
       "\n",
       "                                                                                                                               text  \n",
       "0                                        Mention society tell send professor analysis. Over provide race technology continue these.  \n",
       "1                                                 Foot glass pretty audience hit themselves. Among admit investment argue security.  \n",
       "2  Listen treat keep worry. Miss husband tax but person sport treatment industry. Kitchen decision deep the. Social party body the.  \n",
       "3          Finally month interesting blue could nature cultural bit. Prepare beat finish grow that smile teach. Dream me play near.  \n",
       "4                  Nation purpose heavy give wait song will. List dinner another whole positive radio fast. Music staff many green.  "
      ]
     },
     "execution_count": 16,
     "metadata": {},
     "output_type": "execute_result"
    }
   ],
   "source": [
    "# формируем запрос\n",
    "query = '''\n",
    "\n",
    "SELECT *\n",
    "  FROM reviews\n",
    " LIMIT 5; \n",
    "\n",
    "'''\n",
    "# вызываем функцию\n",
    "get_sql_data(query)"
   ]
  },
  {
   "cell_type": "code",
   "execution_count": 17,
   "metadata": {},
   "outputs": [
    {
     "name": "stdout",
     "output_type": "stream",
     "text": [
      "Количество строк в таблице:\n",
      "   count\n",
      "0   2793\n"
     ]
    }
   ],
   "source": [
    "# формируем запрос\n",
    "query = '''\n",
    "\n",
    "SELECT COUNT(*)\n",
    "  FROM reviews;\n",
    "\n",
    "'''\n",
    "# вызываем функцию\n",
    "print(f\"Количество строк в таблице:\\n{get_sql_data(query)}\")"
   ]
  },
  {
   "cell_type": "markdown",
   "metadata": {},
   "source": [
    "### Итоги исследования таблиц\n",
    "Ознакомились с данныи, которые содержатся в таблицах. Для выполнения запросов использовали написанную функцию `get_sql_data`.\n",
    "\n",
    "По каждой из таблиц вывели по пять строк и подсчитали сколько строк содержит таблица.\n",
    "Результаты исследования:\n",
    " - 1000 строк содержит таблица `books`,\n",
    " - 636 строк содержит таблица`authors`, \n",
    " - 340 строк содержит таблица`publishers`, \n",
    " - 6456 строк содержит таблица`ratings`,  \n",
    " - 2793 строк содержит таблица`reviews`"
   ]
  },
  {
   "cell_type": "markdown",
   "metadata": {},
   "source": [
    "## Получение данных\n",
    "Сформируем запросы и получим ответы по следующим вопросам:\n",
    " - посчитать сколько книг вышло после 1 января 2000 года;\n",
    " - посчитать какое количество обзоров и какая средняя оценка для каждой книги ;\n",
    " - определить издательство, которое выпустило наибольшее число книг толще 50 страниц (это исключит из анализа брошюры);\n",
    " - определить автора с самой высокой средней оценкой книг — учитывать только книги с 50 и более оценками;\n",
    " - посчитать среднее количество обзоров от пользователей, которые поставили больше 48 оценок."
   ]
  },
  {
   "cell_type": "markdown",
   "metadata": {},
   "source": [
    "### Cколько книг вышло после 1 января 2000 года "
   ]
  },
  {
   "cell_type": "code",
   "execution_count": 18,
   "metadata": {},
   "outputs": [
    {
     "data": {
      "text/html": [
       "<div>\n",
       "<style scoped>\n",
       "    .dataframe tbody tr th:only-of-type {\n",
       "        vertical-align: middle;\n",
       "    }\n",
       "\n",
       "    .dataframe tbody tr th {\n",
       "        vertical-align: top;\n",
       "    }\n",
       "\n",
       "    .dataframe thead th {\n",
       "        text-align: right;\n",
       "    }\n",
       "</style>\n",
       "<table border=\"1\" class=\"dataframe\">\n",
       "  <thead>\n",
       "    <tr style=\"text-align: right;\">\n",
       "      <th></th>\n",
       "      <th>count</th>\n",
       "    </tr>\n",
       "  </thead>\n",
       "  <tbody>\n",
       "    <tr>\n",
       "      <th>0</th>\n",
       "      <td>819</td>\n",
       "    </tr>\n",
       "  </tbody>\n",
       "</table>\n",
       "</div>"
      ],
      "text/plain": [
       "   count\n",
       "0    819"
      ]
     },
     "execution_count": 18,
     "metadata": {},
     "output_type": "execute_result"
    }
   ],
   "source": [
    "# формируем запрос\n",
    "query = '''\n",
    "\n",
    "SELECT COUNT(books.book_id)\n",
    "  FROM books\n",
    "WHERE books.publication_date > '2000-01-01'; \n",
    "\n",
    "'''\n",
    "# вызываем функцию\n",
    "get_sql_data(query)"
   ]
  },
  {
   "cell_type": "markdown",
   "metadata": {},
   "source": [
    "#### Выводы по результату запроса <a class=\"tocSkip\">\n",
    "После 1 января 2000 года вышло 819 книг.    "
   ]
  },
  {
   "cell_type": "markdown",
   "metadata": {},
   "source": [
    " Можно уточнить у заказчика, включаем мы 1 января или нет.\n"
   ]
  },
  {
   "cell_type": "markdown",
   "metadata": {},
   "source": [
    "### Посчитать какое количество обзоров и какая средняя оценка для каждой книги\n",
    "Посчитаем количество обзоров для каждой книги и выведем результаты в столбцe `reviews_count`. Посчитаем среднюю оценку для каждой книги и выведем результаты в столбце `avg_rating` в порядке убывания. "
   ]
  },
  {
   "cell_type": "code",
   "execution_count": 19,
   "metadata": {},
   "outputs": [
    {
     "data": {
      "text/html": [
       "<div>\n",
       "<style scoped>\n",
       "    .dataframe tbody tr th:only-of-type {\n",
       "        vertical-align: middle;\n",
       "    }\n",
       "\n",
       "    .dataframe tbody tr th {\n",
       "        vertical-align: top;\n",
       "    }\n",
       "\n",
       "    .dataframe thead th {\n",
       "        text-align: right;\n",
       "    }\n",
       "</style>\n",
       "<table border=\"1\" class=\"dataframe\">\n",
       "  <thead>\n",
       "    <tr style=\"text-align: right;\">\n",
       "      <th></th>\n",
       "      <th>book_id</th>\n",
       "      <th>title</th>\n",
       "      <th>reviews_count</th>\n",
       "      <th>avg_rating</th>\n",
       "    </tr>\n",
       "  </thead>\n",
       "  <tbody>\n",
       "    <tr>\n",
       "      <th>0</th>\n",
       "      <td>86</td>\n",
       "      <td>Arrows of the Queen (Heralds of Valdemar  #1)</td>\n",
       "      <td>2</td>\n",
       "      <td>5.00</td>\n",
       "    </tr>\n",
       "    <tr>\n",
       "      <th>1</th>\n",
       "      <td>901</td>\n",
       "      <td>The Walking Dead  Book One (The Walking Dead #1-12)</td>\n",
       "      <td>2</td>\n",
       "      <td>5.00</td>\n",
       "    </tr>\n",
       "    <tr>\n",
       "      <th>2</th>\n",
       "      <td>390</td>\n",
       "      <td>Light in August</td>\n",
       "      <td>2</td>\n",
       "      <td>5.00</td>\n",
       "    </tr>\n",
       "    <tr>\n",
       "      <th>3</th>\n",
       "      <td>972</td>\n",
       "      <td>Wherever You Go  There You Are: Mindfulness Meditation in Everyday Life</td>\n",
       "      <td>2</td>\n",
       "      <td>5.00</td>\n",
       "    </tr>\n",
       "    <tr>\n",
       "      <th>4</th>\n",
       "      <td>136</td>\n",
       "      <td>Captivating: Unveiling the Mystery of a Woman's Soul</td>\n",
       "      <td>2</td>\n",
       "      <td>5.00</td>\n",
       "    </tr>\n",
       "    <tr>\n",
       "      <th>...</th>\n",
       "      <td>...</td>\n",
       "      <td>...</td>\n",
       "      <td>...</td>\n",
       "      <td>...</td>\n",
       "    </tr>\n",
       "    <tr>\n",
       "      <th>995</th>\n",
       "      <td>915</td>\n",
       "      <td>The World Is Flat: A Brief History of the Twenty-first Century</td>\n",
       "      <td>3</td>\n",
       "      <td>2.25</td>\n",
       "    </tr>\n",
       "    <tr>\n",
       "      <th>996</th>\n",
       "      <td>316</td>\n",
       "      <td>His Excellency: George Washington</td>\n",
       "      <td>2</td>\n",
       "      <td>2.00</td>\n",
       "    </tr>\n",
       "    <tr>\n",
       "      <th>997</th>\n",
       "      <td>202</td>\n",
       "      <td>Drowning Ruth</td>\n",
       "      <td>3</td>\n",
       "      <td>2.00</td>\n",
       "    </tr>\n",
       "    <tr>\n",
       "      <th>998</th>\n",
       "      <td>371</td>\n",
       "      <td>Junky</td>\n",
       "      <td>2</td>\n",
       "      <td>2.00</td>\n",
       "    </tr>\n",
       "    <tr>\n",
       "      <th>999</th>\n",
       "      <td>303</td>\n",
       "      <td>Harvesting the Heart</td>\n",
       "      <td>2</td>\n",
       "      <td>1.50</td>\n",
       "    </tr>\n",
       "  </tbody>\n",
       "</table>\n",
       "<p>1000 rows × 4 columns</p>\n",
       "</div>"
      ],
      "text/plain": [
       "     book_id  \\\n",
       "0         86   \n",
       "1        901   \n",
       "2        390   \n",
       "3        972   \n",
       "4        136   \n",
       "..       ...   \n",
       "995      915   \n",
       "996      316   \n",
       "997      202   \n",
       "998      371   \n",
       "999      303   \n",
       "\n",
       "                                                                       title  \\\n",
       "0                              Arrows of the Queen (Heralds of Valdemar  #1)   \n",
       "1                        The Walking Dead  Book One (The Walking Dead #1-12)   \n",
       "2                                                            Light in August   \n",
       "3    Wherever You Go  There You Are: Mindfulness Meditation in Everyday Life   \n",
       "4                       Captivating: Unveiling the Mystery of a Woman's Soul   \n",
       "..                                                                       ...   \n",
       "995           The World Is Flat: A Brief History of the Twenty-first Century   \n",
       "996                                        His Excellency: George Washington   \n",
       "997                                                            Drowning Ruth   \n",
       "998                                                                    Junky   \n",
       "999                                                     Harvesting the Heart   \n",
       "\n",
       "     reviews_count  avg_rating  \n",
       "0                2        5.00  \n",
       "1                2        5.00  \n",
       "2                2        5.00  \n",
       "3                2        5.00  \n",
       "4                2        5.00  \n",
       "..             ...         ...  \n",
       "995              3        2.25  \n",
       "996              2        2.00  \n",
       "997              3        2.00  \n",
       "998              2        2.00  \n",
       "999              2        1.50  \n",
       "\n",
       "[1000 rows x 4 columns]"
      ]
     },
     "execution_count": 19,
     "metadata": {},
     "output_type": "execute_result"
    }
   ],
   "source": [
    "# формируем запрос\n",
    "query = '''\n",
    "\n",
    "SELECT b.book_id,\n",
    "       b.title,\n",
    "       COUNT(DISTINCT rw.review_id) AS reviews_count,\n",
    "       ROUND(AVG(r.rating),3) AS avg_rating\n",
    "  FROM books AS b\n",
    "LEFT JOIN reviews AS rw ON b.book_id = rw.book_id\n",
    "LEFT JOIN ratings AS r ON b.book_id = r.book_id\n",
    "GROUP BY b.book_id, b.title\n",
    "ORDER BY avg_rating DESC;\n",
    "\n",
    "'''\n",
    "# вызываем функцию\n",
    "get_sql_data(query)"
   ]
  },
  {
   "cell_type": "markdown",
   "metadata": {},
   "source": [
    "#### Выводы по результату запроса <a class=\"tocSkip\">\n",
    "Посчитали количество обзоров для каждой книги и вывели результаты в столбцe `reviews_count`. Средняя оценка  для книг выведена в столбце avg_rating. Минимальная оценка 1.5, максимальная 5.0."
   ]
  },
  {
   "cell_type": "markdown",
   "metadata": {},
   "source": [
    "Обзоров больше всего на Сумерки.\n"
   ]
  },
  {
   "cell_type": "markdown",
   "metadata": {},
   "source": [
    "### Определить издательство, которое выпустило наибольшее число книг, толще 50 страниц \n",
    "Исключение книг тоньше 50 страниц позволит не учитывать брошюры. "
   ]
  },
  {
   "cell_type": "code",
   "execution_count": 20,
   "metadata": {},
   "outputs": [
    {
     "data": {
      "text/html": [
       "<div>\n",
       "<style scoped>\n",
       "    .dataframe tbody tr th:only-of-type {\n",
       "        vertical-align: middle;\n",
       "    }\n",
       "\n",
       "    .dataframe tbody tr th {\n",
       "        vertical-align: top;\n",
       "    }\n",
       "\n",
       "    .dataframe thead th {\n",
       "        text-align: right;\n",
       "    }\n",
       "</style>\n",
       "<table border=\"1\" class=\"dataframe\">\n",
       "  <thead>\n",
       "    <tr style=\"text-align: right;\">\n",
       "      <th></th>\n",
       "      <th>publisher_id</th>\n",
       "      <th>publisher</th>\n",
       "    </tr>\n",
       "  </thead>\n",
       "  <tbody>\n",
       "    <tr>\n",
       "      <th>0</th>\n",
       "      <td>212</td>\n",
       "      <td>Penguin Books</td>\n",
       "    </tr>\n",
       "  </tbody>\n",
       "</table>\n",
       "</div>"
      ],
      "text/plain": [
       "   publisher_id      publisher\n",
       "0           212  Penguin Books"
      ]
     },
     "execution_count": 20,
     "metadata": {},
     "output_type": "execute_result"
    }
   ],
   "source": [
    "# формируем запрос\n",
    "query = '''\n",
    "\n",
    "WITH t AS\n",
    "    (SELECT books.publisher_id,\n",
    "            books.book_id\n",
    "       FROM books\n",
    "      WHERE books.num_pages > 50)\n",
    "\n",
    "SELECT t.publisher_id,\n",
    "       p.publisher\n",
    "  FROM t\n",
    "INNER JOIN publishers AS p ON t.publisher_id = p.publisher_id\n",
    "GROUP BY t.publisher_id, p.publisher\n",
    "ORDER BY COUNT(t.book_id) DESC\n",
    "LIMIT 1;\n",
    "'''\n",
    "# вызываем функцию\n",
    "get_sql_data(query)"
   ]
  },
  {
   "cell_type": "markdown",
   "metadata": {},
   "source": [
    "#### Выводы по результату запроса <a class=\"tocSkip\">\n",
    "`Penguin Books`\tиздательство, которое выпустило наибольшее число книг толще 50 страниц - 212 штук.     "
   ]
  },
  {
   "cell_type": "markdown",
   "metadata": {},
   "source": [
    "### Определить автора с самой высокой средней оценкой книг только книги с 50 и более оценками"
   ]
  },
  {
   "cell_type": "code",
   "execution_count": 21,
   "metadata": {},
   "outputs": [
    {
     "data": {
      "text/html": [
       "<div>\n",
       "<style scoped>\n",
       "    .dataframe tbody tr th:only-of-type {\n",
       "        vertical-align: middle;\n",
       "    }\n",
       "\n",
       "    .dataframe tbody tr th {\n",
       "        vertical-align: top;\n",
       "    }\n",
       "\n",
       "    .dataframe thead th {\n",
       "        text-align: right;\n",
       "    }\n",
       "</style>\n",
       "<table border=\"1\" class=\"dataframe\">\n",
       "  <thead>\n",
       "    <tr style=\"text-align: right;\">\n",
       "      <th></th>\n",
       "      <th>author_id</th>\n",
       "      <th>author</th>\n",
       "      <th>avg_rating</th>\n",
       "    </tr>\n",
       "  </thead>\n",
       "  <tbody>\n",
       "    <tr>\n",
       "      <th>0</th>\n",
       "      <td>236</td>\n",
       "      <td>J.K. Rowling/Mary GrandPré</td>\n",
       "      <td>4.287097</td>\n",
       "    </tr>\n",
       "  </tbody>\n",
       "</table>\n",
       "</div>"
      ],
      "text/plain": [
       "   author_id                      author  avg_rating\n",
       "0        236  J.K. Rowling/Mary GrandPré    4.287097"
      ]
     },
     "execution_count": 21,
     "metadata": {},
     "output_type": "execute_result"
    }
   ],
   "source": [
    "# формируем запрос\n",
    "query = '''\n",
    "\n",
    "WITH t AS\n",
    "    (SELECT book_id\n",
    "       FROM ratings\n",
    "     GROUP BY book_id\n",
    "     HAVING COUNT(rating_id) >= 50)\n",
    "\n",
    "SELECT a.author_id,\n",
    "       a.author,\n",
    "       AVG(r.rating) AS avg_rating\n",
    "  FROM books AS b\n",
    "INNER JOIN t ON b.book_id = t.book_id\n",
    "INNER JOIN authors AS a ON b.author_id = a.author_id\n",
    "INNER JOIN ratings AS r ON t.book_id = r.book_id\n",
    "GROUP BY a.author_id, a.author\n",
    "ORDER BY AVG(r.rating) DESC\n",
    "LIMIT 1;\n",
    "\n",
    "'''\n",
    "# вызываем функцию\n",
    "get_sql_data(query)"
   ]
  },
  {
   "cell_type": "markdown",
   "metadata": {},
   "source": [
    "#### Выводы по результату запроса <a class=\"tocSkip\">\n",
    "Автор с самой высокой средней оценкой книг, имеющих 50 и более оценок - это `J.K. Rowling/Mary GrandPré`."
   ]
  },
  {
   "cell_type": "markdown",
   "metadata": {},
   "source": [
    "###  Посчитать среднее количество обзоров от пользователей, которые поставили больше 48 оценок\n",
    "Посчитаем среднее количество обзоров от пользователей, который поставили болеее 48 оценок и выведем результат как `avg_rw_count`."
   ]
  },
  {
   "cell_type": "code",
   "execution_count": 22,
   "metadata": {},
   "outputs": [
    {
     "data": {
      "text/html": [
       "<div>\n",
       "<style scoped>\n",
       "    .dataframe tbody tr th:only-of-type {\n",
       "        vertical-align: middle;\n",
       "    }\n",
       "\n",
       "    .dataframe tbody tr th {\n",
       "        vertical-align: top;\n",
       "    }\n",
       "\n",
       "    .dataframe thead th {\n",
       "        text-align: right;\n",
       "    }\n",
       "</style>\n",
       "<table border=\"1\" class=\"dataframe\">\n",
       "  <thead>\n",
       "    <tr style=\"text-align: right;\">\n",
       "      <th></th>\n",
       "      <th>avg_rw_count</th>\n",
       "    </tr>\n",
       "  </thead>\n",
       "  <tbody>\n",
       "    <tr>\n",
       "      <th>0</th>\n",
       "      <td>24</td>\n",
       "    </tr>\n",
       "  </tbody>\n",
       "</table>\n",
       "</div>"
      ],
      "text/plain": [
       "   avg_rw_count\n",
       "0            24"
      ]
     },
     "execution_count": 22,
     "metadata": {},
     "output_type": "execute_result"
    }
   ],
   "source": [
    "# формируем запрос\n",
    "query = '''\n",
    "\n",
    "SELECT COUNT(DISTINCT rw.text)/COUNT(DISTINCT rw.username) AS avg_rw_count\n",
    "  FROM ratings AS r\n",
    "INNER JOIN reviews AS rw ON r.username = rw.username\n",
    "WHERE r.username in (SELECT ratings.username\n",
    "                       FROM ratings\n",
    "                     GROUP BY ratings.username\n",
    "                     HAVING COUNT(ratings.rating_id) > 48);\n",
    "\n",
    "'''\n",
    "# вызываем функцию\n",
    "get_sql_data(query)"
   ]
  },
  {
   "cell_type": "markdown",
   "metadata": {},
   "source": [
    "#### Выводы по результату запроса <a class=\"tocSkip\">\n",
    "Cреднее количество обзоров от пользователей, которые поставили болеее 48 оценок равно 24.    "
   ]
  },
  {
   "cell_type": "markdown",
   "metadata": {},
   "source": [
    "## Итоги\n",
    "Исследовали таблицы базы данных, в которой содержится информация о книгах, издательствах, авторах, а также пользовательские обзоры книг. Для выполнения запросов использовали написанную функцию `get_sql_data`.\n",
    "\n",
    "По каждой из таблиц вывели по пять строк и подсчитали сколько строк содержит таблица.\n",
    "Результаты исследования:\n",
    " - 1000 строк содержит таблица `books`,\n",
    " - 636 строк содержит таблица`authors`, \n",
    " - 340 строк содержит таблица`publishers`, \n",
    " - 6456 строк содержит таблица`ratings`,  \n",
    " - 2793 строк содержит таблица`reviews`\n",
    "\n",
    "С помощью SQL запросов получена следующая информация:\n",
    "\n",
    " - `819` книг вышло после 1 января 2000 года;\n",
    " - `1.5 -5.0` среднии оценки для книг;\n",
    " - `Penguin Books` - издательство, которое выпустило наибольшее число книг толще 50 страниц - 212 штук;\n",
    " - `J.K. Rowling/Mary GrandPré` - автор с самой высокой средней оценкой книг, имеющих 50 и более оценок;\n",
    " - `24` - число среднего количества обзоров от пользователей, которые поставили болеее 48 оценок."
   ]
  }
 ],
 "metadata": {
  "ExecuteTimeLog": [
   {
    "duration": 3,
    "start_time": "2024-07-05T08:51:31.092Z"
   },
   {
    "duration": 475,
    "start_time": "2024-07-05T08:51:31.522Z"
   },
   {
    "duration": 3,
    "start_time": "2024-07-05T08:51:31.999Z"
   },
   {
    "duration": 6763,
    "start_time": "2024-07-05T08:51:32.434Z"
   },
   {
    "duration": 3,
    "start_time": "2024-07-05T08:51:39.198Z"
   },
   {
    "duration": 2,
    "start_time": "2024-07-05T09:12:23.214Z"
   },
   {
    "duration": 3,
    "start_time": "2024-07-05T09:24:25.268Z"
   },
   {
    "duration": 3,
    "start_time": "2024-07-05T09:25:24.639Z"
   },
   {
    "duration": 166,
    "start_time": "2024-07-05T09:27:11.986Z"
   },
   {
    "duration": 3,
    "start_time": "2024-07-05T09:27:38.540Z"
   },
   {
    "duration": 119,
    "start_time": "2024-07-05T09:27:45.029Z"
   },
   {
    "duration": 3,
    "start_time": "2024-07-05T09:30:54.967Z"
   },
   {
    "duration": 3,
    "start_time": "2024-07-05T09:30:56.128Z"
   },
   {
    "duration": 3,
    "start_time": "2024-07-05T09:30:57.032Z"
   },
   {
    "duration": 242,
    "start_time": "2024-07-05T09:31:00.250Z"
   },
   {
    "duration": 2,
    "start_time": "2024-07-05T09:32:04.514Z"
   },
   {
    "duration": 53,
    "start_time": "2024-07-05T09:32:07.474Z"
   },
   {
    "duration": 50,
    "start_time": "2024-07-05T09:39:19.927Z"
   },
   {
    "duration": 66,
    "start_time": "2024-07-05T09:40:45.517Z"
   },
   {
    "duration": 70,
    "start_time": "2024-07-05T09:40:53.058Z"
   },
   {
    "duration": 49,
    "start_time": "2024-07-05T09:41:04.291Z"
   },
   {
    "duration": 123,
    "start_time": "2024-07-05T09:41:26.238Z"
   },
   {
    "duration": 52,
    "start_time": "2024-07-05T09:41:32.228Z"
   },
   {
    "duration": 49,
    "start_time": "2024-07-05T09:42:16.564Z"
   },
   {
    "duration": 3,
    "start_time": "2024-07-05T09:45:27.293Z"
   },
   {
    "duration": 51,
    "start_time": "2024-07-05T09:45:37.933Z"
   },
   {
    "duration": 2,
    "start_time": "2024-07-05T10:02:51.486Z"
   },
   {
    "duration": 49,
    "start_time": "2024-07-05T10:06:36.444Z"
   },
   {
    "duration": 51,
    "start_time": "2024-07-05T10:07:39.054Z"
   },
   {
    "duration": 49,
    "start_time": "2024-07-05T10:09:17.608Z"
   },
   {
    "duration": 52,
    "start_time": "2024-07-05T10:11:33.054Z"
   },
   {
    "duration": 49,
    "start_time": "2024-07-05T10:11:57.311Z"
   },
   {
    "duration": 52,
    "start_time": "2024-07-05T10:12:43.987Z"
   },
   {
    "duration": 49,
    "start_time": "2024-07-05T10:13:02.809Z"
   },
   {
    "duration": 53,
    "start_time": "2024-07-05T10:18:42.627Z"
   },
   {
    "duration": 49,
    "start_time": "2024-07-05T10:18:55.749Z"
   },
   {
    "duration": 50,
    "start_time": "2024-07-05T12:06:16.429Z"
   },
   {
    "duration": 91,
    "start_time": "2024-07-05T12:13:06.914Z"
   },
   {
    "duration": 89,
    "start_time": "2024-07-05T12:21:01.810Z"
   },
   {
    "duration": 81,
    "start_time": "2024-07-05T12:21:24.011Z"
   },
   {
    "duration": 87,
    "start_time": "2024-07-05T12:21:42.851Z"
   },
   {
    "duration": 89,
    "start_time": "2024-07-05T12:24:06.513Z"
   },
   {
    "duration": 62,
    "start_time": "2024-07-05T12:24:52.571Z"
   },
   {
    "duration": 86,
    "start_time": "2024-07-05T12:25:10.692Z"
   },
   {
    "duration": 89,
    "start_time": "2024-07-05T12:27:14.076Z"
   },
   {
    "duration": 56,
    "start_time": "2024-07-05T12:36:47.671Z"
   },
   {
    "duration": 52,
    "start_time": "2024-07-05T12:39:45.448Z"
   },
   {
    "duration": 53,
    "start_time": "2024-07-05T13:15:31.066Z"
   },
   {
    "duration": 56,
    "start_time": "2024-07-05T13:16:45.590Z"
   },
   {
    "duration": 63,
    "start_time": "2024-07-05T13:18:06.455Z"
   },
   {
    "duration": 62,
    "start_time": "2024-07-05T13:18:17.193Z"
   },
   {
    "duration": 62,
    "start_time": "2024-07-05T13:20:19.588Z"
   },
   {
    "duration": 66,
    "start_time": "2024-07-05T13:20:50.028Z"
   },
   {
    "duration": 145,
    "start_time": "2024-07-05T15:38:14.807Z"
   },
   {
    "duration": 408,
    "start_time": "2024-07-05T15:38:14.955Z"
   },
   {
    "duration": 4,
    "start_time": "2024-07-05T15:38:15.367Z"
   },
   {
    "duration": 7479,
    "start_time": "2024-07-05T15:38:15.373Z"
   },
   {
    "duration": 4,
    "start_time": "2024-07-05T15:38:22.854Z"
   },
   {
    "duration": 76,
    "start_time": "2024-07-05T15:38:22.860Z"
   },
   {
    "duration": 8,
    "start_time": "2024-07-05T15:38:22.938Z"
   },
   {
    "duration": 12,
    "start_time": "2024-07-05T15:38:22.949Z"
   },
   {
    "duration": 11,
    "start_time": "2024-07-05T15:38:22.963Z"
   },
   {
    "duration": 17,
    "start_time": "2024-07-05T15:38:22.975Z"
   },
   {
    "duration": 9,
    "start_time": "2024-07-05T15:38:22.993Z"
   },
   {
    "duration": 11,
    "start_time": "2024-07-05T15:38:23.021Z"
   },
   {
    "duration": 8,
    "start_time": "2024-07-05T15:38:23.035Z"
   },
   {
    "duration": 13,
    "start_time": "2024-07-05T15:38:23.044Z"
   },
   {
    "duration": 7,
    "start_time": "2024-07-05T15:38:23.058Z"
   },
   {
    "duration": 12,
    "start_time": "2024-07-05T15:38:23.067Z"
   },
   {
    "duration": 56,
    "start_time": "2024-07-05T15:38:23.081Z"
   },
   {
    "duration": 15,
    "start_time": "2024-07-05T15:38:23.139Z"
   },
   {
    "duration": 30,
    "start_time": "2024-07-05T15:38:23.156Z"
   },
   {
    "duration": 25,
    "start_time": "2024-07-05T15:38:23.190Z"
   },
   {
    "duration": 38,
    "start_time": "2024-07-05T15:40:23.690Z"
   },
   {
    "duration": 28,
    "start_time": "2024-07-05T15:40:30.670Z"
   }
  ],
  "kernelspec": {
   "display_name": "Python 3 (ipykernel)",
   "language": "python",
   "name": "python3"
  },
  "language_info": {
   "codemirror_mode": {
    "name": "ipython",
    "version": 3
   },
   "file_extension": ".py",
   "mimetype": "text/x-python",
   "name": "python",
   "nbconvert_exporter": "python",
   "pygments_lexer": "ipython3",
   "version": "3.9.13"
  },
  "toc": {
   "base_numbering": 1,
   "nav_menu": {},
   "number_sections": true,
   "sideBar": true,
   "skip_h1_title": true,
   "title_cell": "Table of Contents",
   "title_sidebar": "Contents",
   "toc_cell": false,
   "toc_position": {
    "height": "calc(100% - 180px)",
    "left": "10px",
    "top": "150px",
    "width": "168.391px"
   },
   "toc_section_display": true,
   "toc_window_display": true
  }
 },
 "nbformat": 4,
 "nbformat_minor": 2
}
